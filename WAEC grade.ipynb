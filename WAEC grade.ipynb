{
 "cells": [
  {
   "cell_type": "code",
   "execution_count": null,
   "id": "91550ab3-cf01-4fec-9057-f3127ed53d82",
   "metadata": {},
   "outputs": [],
   "source": [
    "# Write a python condiotional statement to get the grade of WAEC student. Note: Take an input from the user\n"
   ]
  },
  {
   "cell_type": "code",
   "execution_count": 12,
   "id": "2da98f14-9007-4b72-8f90-7037b3e6dc53",
   "metadata": {},
   "outputs": [
    {
     "name": "stdin",
     "output_type": "stream",
     "text": [
      "INPUT WAEC SCORE 7\n"
     ]
    },
    {
     "name": "stdout",
     "output_type": "stream",
     "text": [
      "F9\n"
     ]
    }
   ],
   "source": [
    "score = int(input('INPUT WAEC SCORE'))\n",
    "if (score>=75):\n",
    "    print('Your Score: ', score, 'is equivalent to A1')\n",
    "elif(score>=70 and score<75):\n",
    "    print('Your Score: ', score, 'is equivalent to B2')\n",
    "elif(score>=65 and score<70):\n",
    "    print('Your Score: ', score, 'is equivalent to B3')\n",
    "elif(score>=60 and score<65):\n",
    "    print('Your Score: ', score, 'is equivalent to C4')\n",
    "elif(score>=55 and score<60):\n",
    "    print('Your Score: ', score, 'is equivalent to C5')\n",
    "elif(score>=50 and score<55):\n",
    "    print('Your Score: ', score, 'is equivalent to C6')\n",
    "elif(score>=45 and score<50):\n",
    "    print('Your Score: ', score, 'is equivalent to D7')\n",
    "elif(score>=40 and score<45):\n",
    "    print('Your Score: ', score, 'is equivalent to E9')\n",
    "else:\n",
    "    print('F9')\n",
    "\n",
    "\n",
    "    \n",
    "\n",
    "    "
   ]
  },
  {
   "cell_type": "code",
   "execution_count": null,
   "id": "61d37442-6a51-4fbe-ae7e-87ac0158a69b",
   "metadata": {},
   "outputs": [],
   "source": []
  }
 ],
 "metadata": {
  "kernelspec": {
   "display_name": "Python 3 (ipykernel)",
   "language": "python",
   "name": "python3"
  },
  "language_info": {
   "codemirror_mode": {
    "name": "ipython",
    "version": 3
   },
   "file_extension": ".py",
   "mimetype": "text/x-python",
   "name": "python",
   "nbconvert_exporter": "python",
   "pygments_lexer": "ipython3",
   "version": "3.9.7"
  }
 },
 "nbformat": 4,
 "nbformat_minor": 5
}
